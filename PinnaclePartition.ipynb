{
 "cells": [
  {
   "cell_type": "markdown",
   "metadata": {},
   "source": [
    "# Finding Pinnacle Partition by Length"
   ]
  },
  {
   "cell_type": "code",
   "execution_count": null,
   "metadata": {},
   "outputs": [],
   "source": [
    "from itertools import permutations\n",
    "from scipy.signal import find_peaks\n",
    "from collections import Counter"
   ]
  },
  {
   "cell_type": "markdown",
   "metadata": {},
   "source": [
    "## Peak to Permutation:"
   ]
  },
  {
   "cell_type": "code",
   "execution_count": null,
   "metadata": {},
   "outputs": [],
   "source": [
    "#Creates list of tuples, [(peak,permutation),...], for a given symmetric group.\n",
    "def loopName(seriesNumber):\n",
    "    seriesList = []\n",
    "    for i in range(1,seriesNumber+1):\n",
    "        seriesList.append(i)\n",
    "\n",
    "    vals = list(permutations(seriesList))\n",
    "    tempList = []\n",
    "\n",
    "    for val in vals:\n",
    "        num = find_peaks(val)[0].tolist()\n",
    "        if num:\n",
    "            tempList.append(([x+1 for x in num],list(val)))\n",
    "    return tempList"
   ]
  },
  {
   "cell_type": "code",
   "execution_count": null,
   "metadata": {},
   "outputs": [],
   "source": [
    "symmetricGroupNum = 6   ##### Enter Symmetric Group Here\n",
    "\n",
    "peakAndPerm=loopName(symmetricGroupNum)\n",
    "print(peakAndPerm)"
   ]
  },
  {
   "cell_type": "markdown",
   "metadata": {},
   "source": [
    "## Peak to Pinnacle Mapping:"
   ]
  },
  {
   "cell_type": "code",
   "execution_count": null,
   "metadata": {
    "scrolled": true
   },
   "outputs": [],
   "source": [
    "#Creates list of tuples, [(peak,pinnacle),...], from loopName function output.\n",
    "pinnacle=[]\n",
    "for val in peakAndPerm:\n",
    "    temp=[]\n",
    "    for i in val[0]:\n",
    "        temp.append(val[1][i-1])\n",
    "    pinnacle.append((tuple(val[0]),tuple(sorted(temp))))\n",
    "    \n",
    "print(pinnacle)"
   ]
  },
  {
   "cell_type": "code",
   "execution_count": null,
   "metadata": {},
   "outputs": [],
   "source": [
    "#Counts duplicate (peak -> pinnacle) mappings.\n",
    "print(Counter(pinnacle))"
   ]
  },
  {
   "cell_type": "markdown",
   "metadata": {},
   "source": [
    "## Pinnacle to Length:"
   ]
  },
  {
   "cell_type": "code",
   "execution_count": null,
   "metadata": {},
   "outputs": [],
   "source": [
    "#Creates list of tuples, [(pinnacle,length),...], from loopName function output.\n",
    "pinnacleLen=[]\n",
    "for val in peakAndPerm:\n",
    "    temp=[]\n",
    "    for i in val[0]:\n",
    "        temp.append(val[1][i-1])\n",
    "    pinnacleLen.append((tuple(sorted(temp)),Permutation(val[1]).length()))\n",
    "    \n",
    "print(pinnacleLen)"
   ]
  },
  {
   "cell_type": "code",
   "execution_count": null,
   "metadata": {},
   "outputs": [],
   "source": [
    "#Counts duplicate (pinnacle -> length) mappings, of the form ((pinnacle,length),count)\n",
    "sorted(list(Counter(pinnacleLen).items()),key=lambda x:x[0])"
   ]
  }
 ],
 "metadata": {
  "kernelspec": {
   "display_name": "Python 3",
   "language": "python",
   "name": "python3"
  },
  "language_info": {
   "codemirror_mode": {
    "name": "ipython",
    "version": 3
   },
   "file_extension": ".py",
   "mimetype": "text/x-python",
   "name": "python",
   "nbconvert_exporter": "python",
   "pygments_lexer": "ipython3",
   "version": "3.7.3"
  }
 },
 "nbformat": 4,
 "nbformat_minor": 2
}
