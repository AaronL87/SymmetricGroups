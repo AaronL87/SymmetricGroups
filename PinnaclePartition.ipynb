{
 "cells": [
  {
   "cell_type": "markdown",
   "metadata": {},
   "source": [
    "# Finding Pinnacle Partition by Length"
   ]
  },
  {
   "cell_type": "code",
   "execution_count": null,
   "metadata": {},
   "outputs": [],
   "source": [
    "from itertools import permutations\n",
    "from scipy.signal import find_peaks\n",
    "from collections import Counter"
   ]
  },
  {
   "cell_type": "markdown",
   "metadata": {},
   "source": [
    "## Peak to Permutation:"
   ]
  },
  {
   "cell_type": "code",
   "execution_count": null,
   "metadata": {},
   "outputs": [],
   "source": [
    "#Creates list of tuples, [(peak,permutation),...], for a given symmetric group.\n",
    "def loopName(seriesNumber):\n",
    "    seriesList = []\n",
    "    for i in range(1,seriesNumber+1):\n",
    "        seriesList.append(i)\n",
    "\n",
    "    vals = list(permutations(seriesList))\n",
    "    tempList = []\n",
    "\n",
    "    for val in vals:\n",
    "        num = find_peaks(val)[0].tolist()\n",
    "        tempList.append(([x+1 for x in num],list(val)))\n",
    "    return tempList"
   ]
  },
  {
   "cell_type": "code",
   "execution_count": null,
   "metadata": {},
   "outputs": [],
   "source": [
    "#Previous \"peak set with unique partitions\" grouping function from distributionSequence.py\n",
    "class sumFunction:\n",
    "    def __init__(self,cls,seriesNumber):\n",
    "        self.currResult = []\n",
    "        self.finalResult = []\n",
    "        self.seriesList = []\n",
    "\n",
    "        for i in range(1,seriesNumber+1):\n",
    "            self.seriesList.append(i)\n",
    "\n",
    "        cls.algorithm(self,cls,seriesNumber)\n",
    "\n",
    "    def algorithm(self,cls,seriesNumber):\n",
    "        cls.FirstVals(self,seriesNumber)\n",
    "        cls.RemainVals(self,cls,seriesNumber)\n",
    "        self.finalResult = [[]] + self.finalResult\n",
    "        print(len(self.finalResult))\n",
    "        return self.finalResult\n",
    "            \n",
    "    def FirstVals(self,seriesNumber):\n",
    "        if seriesNumber%2 == 0:\n",
    "            for i in range(1,int(seriesNumber/2)):\n",
    "                tempList1 = []\n",
    "                tempList2 = []\n",
    "                tempList1.append(self.seriesList[i])\n",
    "                tempList2.append(self.seriesList[-i-1])\n",
    "                self.currResult.append((tempList1,tempList2))\n",
    "        else:\n",
    "            for i in range(1,int((seriesNumber+1)/2)):    \n",
    "                tempList1 = []\n",
    "                tempList2 = []\n",
    "                tempList1.append(self.seriesList[i])\n",
    "                tempList2.append(self.seriesList[-i-1])\n",
    "                if tempList1 == tempList2:\n",
    "                    self.currResult.append(tempList1)\n",
    "                else:\n",
    "                    self.currResult.append((tempList1,tempList2))  \n",
    "        \n",
    "        self.finalResult += self.currResult\n",
    "\n",
    "    def RemainVals(self,cls,seriesNumber):     \n",
    "        usedList = []\n",
    "        for val in self.currResult:\n",
    "            if isinstance(val,tuple):\n",
    "                for j in range(2,seriesNumber-val[0][-1]):\n",
    "                    tempList = []\n",
    "                    tempVal1 = val[0]+[val[0][-1]+j]\n",
    "                    tempVal2 = [val[1][0]-j] + val[1]\n",
    "                    if tempVal1 == tempVal2:\n",
    "                        tempList.append(tempVal1)\n",
    "                        if len(tempVal1) >= (seriesNumber-2)/2:\n",
    "                            self.finalResult += tempList\n",
    "                            return\n",
    "                        else:                            \n",
    "                            self.finalResult += tempList\n",
    "                            self.currResult += tempList\n",
    "                            break\n",
    "                    else:\n",
    "                        if len(tempVal1) > (seriesNumber-2)/2:\n",
    "                            return\n",
    "                        elif tempVal1 in usedList:                           \n",
    "                            break\n",
    "                        tempList.append((tempVal1,tempVal2))\n",
    "                        usedList.append(tempVal2)\n",
    "                        self.finalResult += tempList\n",
    "                        self.currResult += tempList"
   ]
  },
  {
   "cell_type": "code",
   "execution_count": null,
   "metadata": {},
   "outputs": [],
   "source": [
    "symmetricGroupNum = 6  ##### Enter Symmetric Group Here\n",
    "\n",
    "peakAndPerm=loopName(symmetricGroupNum)\n",
    "print(peakAndPerm)\n",
    "\n",
    "result = sumFunction(sumFunction,symmetricGroupNum)\n",
    "print(result.finalResult)"
   ]
  },
  {
   "cell_type": "markdown",
   "metadata": {},
   "source": [
    "## Peak to Pinnacle Mapping:"
   ]
  },
  {
   "cell_type": "code",
   "execution_count": null,
   "metadata": {
    "scrolled": true
   },
   "outputs": [],
   "source": [
    "#Creates list of tuples, [(peak,pinnacle),...], from loopName function output.\n",
    "pinnacle=[]\n",
    "for val in peakAndPerm:\n",
    "    temp=[]\n",
    "    for i in val[0]:\n",
    "        temp.append(val[1][i-1])\n",
    "    pinnacle.append((tuple(val[0]),tuple(sorted(temp))))\n",
    "    \n",
    "print(pinnacle)"
   ]
  },
  {
   "cell_type": "code",
   "execution_count": null,
   "metadata": {},
   "outputs": [],
   "source": [
    "#Counts duplicate (peak -> pinnacle) mappings.\n",
    "print(Counter(pinnacle))"
   ]
  },
  {
   "cell_type": "markdown",
   "metadata": {},
   "source": [
    "## Pinnacle to Length:"
   ]
  },
  {
   "cell_type": "code",
   "execution_count": null,
   "metadata": {},
   "outputs": [],
   "source": [
    "#Creates list of tuples, [(pinnacle,length),...], from loopName function output.\n",
    "pinnacleLen=[]\n",
    "for val in peakAndPerm:\n",
    "    temp=[]\n",
    "    for i in val[0]:\n",
    "        temp.append(val[1][i-1])\n",
    "    pinnacleLen.append((tuple(sorted(temp)),Permutation(val[1]).length()))\n",
    "    \n",
    "print(pinnacleLen)"
   ]
  },
  {
   "cell_type": "code",
   "execution_count": null,
   "metadata": {},
   "outputs": [],
   "source": [
    "#Counts duplicate (pinnacle -> length) mappings, of the form ((pinnacle,length),count)\n",
    "sorted(list(Counter(pinnacleLen).items()),key=lambda x:x[0])"
   ]
  },
  {
   "cell_type": "markdown",
   "metadata": {},
   "source": [
    "#### Symmetry Checker:"
   ]
  },
  {
   "cell_type": "code",
   "execution_count": null,
   "metadata": {},
   "outputs": [],
   "source": [
    "def symmetryChecker(pinLenList):\n",
    "    counter = 0\n",
    "    for i in range(1,len(pinLenList)):\n",
    "        if pinLenList[i-1][0][0] == pinLenList[i][0][0]:\n",
    "            counter += 1\n",
    "        else:\n",
    "            if counter%2==0:\n",
    "                for j in range(counter/2):\n",
    "                    print(pinLenList[i-1-counter+j][1],pinLenList[i-1-j][1])\n",
    "                    if pinLenList[i-1-counter+j][1] != pinLenList[i-1-j][1]:\n",
    "                        return False\n",
    "            else:\n",
    "                for j in range((counter-1)/2):\n",
    "                    print(pinLenList[i-1-counter+j][1],pinLenList[i-1-j][1])\n",
    "                    if pinLenList[i-1-counter+j][1] != pinLenList[i-1-j][1]:\n",
    "                        return False      \n",
    "            counter = 0\n",
    "        if i == len(pinLenList)-1:          \n",
    "            if counter%2==0:\n",
    "                for j in range(counter/2):\n",
    "                    print(pinLenList[i-counter+j][1],pinLenList[i-j][1])\n",
    "                    if pinLenList[i-counter+j][1] != pinLenList[i-j][1]:\n",
    "                        return False,1,counter,i,j\n",
    "            else:\n",
    "                for j in range((counter+1)/2):\n",
    "                    print(pinLenList[i-counter+j][1],pinLenList[i-j][1])\n",
    "                    if pinLenList[i-counter+j][1] != pinLenList[i-j][1]:\n",
    "                        return False,2,counter,i,j\n",
    "    return True"
   ]
  },
  {
   "cell_type": "code",
   "execution_count": null,
   "metadata": {},
   "outputs": [],
   "source": [
    "symmetryChecker(pinLenList)"
   ]
  },
  {
   "cell_type": "markdown",
   "metadata": {},
   "source": [
    "## Descent to Length:"
   ]
  },
  {
   "cell_type": "code",
   "execution_count": null,
   "metadata": {},
   "outputs": [],
   "source": [
    "#Creates list of tuples, [(descent,length),...], from loopName function output.\n",
    "descentLen=[]\n",
    "for val in peakAndPerm:\n",
    "    temp=[]\n",
    "    for i in val[0]:\n",
    "        temp.append(val[1][i-1])\n",
    "    descentLen.append((tuple(Permutation(val[1]).descents()),Permutation(val[1]).length()))\n",
    "    \n",
    "print(descentLen)"
   ]
  },
  {
   "cell_type": "code",
   "execution_count": null,
   "metadata": {},
   "outputs": [],
   "source": [
    "#Counts duplicate (descent -> length) mappings, of the form ((descent,length),count)\n",
    "sorted(list(Counter(descentLen).items()),key=lambda x:x[0])"
   ]
  },
  {
   "cell_type": "markdown",
   "metadata": {},
   "source": [
    "## Peak Inversions:"
   ]
  },
  {
   "cell_type": "code",
   "execution_count": null,
   "metadata": {},
   "outputs": [],
   "source": [
    "# For non-symmetric peak sets, corresponding peak set tuple = PS\n",
    "# Creates dictionary of the form: \n",
    "# {(PS[0],PS[1]) : [ (PS[0] permutation, (PS[0] lehmer, PS[1] inverse reverse lehmer)) ,...]}\n",
    "\n",
    "peakDict={}\n",
    "for peak in result.finalResult:\n",
    "    if isinstance(peak,tuple):\n",
    "        temp=[]\n",
    "        for val in peakAndPerm:\n",
    "            if val[0]==peak[0]:\n",
    "                temp.append((val[1],\n",
    "                             (Permutation(val[1]).to_lehmer_code(),\n",
    "                              Permutation(Permutation(val[1][::-1]).inverse()[::-1]).to_lehmer_code())))\n",
    "        peakDict.update({(tuple(peak[0]),tuple(peak[1])):temp})\n",
    "                \n",
    "print(peakDict)"
   ]
  }
 ],
 "metadata": {
  "kernelspec": {
   "display_name": "Python 3",
   "language": "python",
   "name": "python3"
  },
  "language_info": {
   "codemirror_mode": {
    "name": "ipython",
    "version": 3
   },
   "file_extension": ".py",
   "mimetype": "text/x-python",
   "name": "python",
   "nbconvert_exporter": "python",
   "pygments_lexer": "ipython3",
   "version": "3.7.3"
  }
 },
 "nbformat": 4,
 "nbformat_minor": 2
}
